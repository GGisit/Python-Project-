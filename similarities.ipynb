{
 "cells": [
  {
   "cell_type": "code",
   "execution_count": 9,
   "id": "39cac62b-84e3-4d18-9b3d-0238c6f19b53",
   "metadata": {},
   "outputs": [
    {
     "name": "stdout",
     "output_type": "stream",
     "text": [
      "Yogesh is sitting beside me.\n",
      "nabojyoti is stilling beside me.\n",
      "Similar words found: {'beside', 'is', 'me.'}\n",
      "Total number of similar words: 3\n"
     ]
    }
   ],
   "source": [
    "with open('file1.txt', 'r') as file1, open('file2.txt', 'r') as file2:\n",
    "    # Read and split into words (case-insensitive)\n",
    "    words1 = file1.read().lower().split()\n",
    "    words2 = file2.read().lower().split()\n",
    "\n",
    "set1 = set(words1)\n",
    "set2 = set(words2)\n",
    "\n",
    "common_words = set1 & set2\n",
    "one = open('file1.txt')\n",
    "two = open('file2.txt')\n",
    "for line in one:\n",
    "    print(line)\n",
    "for line in two:\n",
    "    print(line)\n",
    "print(\"Similar words found:\", common_words)\n",
    "print(\"Total number of similar words:\", len(common_words))"
   ]
  },
  {
   "cell_type": "code",
   "execution_count": null,
   "id": "b10c5219-92e2-4c25-8bb0-b13ec9ffb240",
   "metadata": {},
   "outputs": [],
   "source": []
  }
 ],
 "metadata": {
  "kernelspec": {
   "display_name": "Python 3 (ipykernel)",
   "language": "python",
   "name": "python3"
  },
  "language_info": {
   "codemirror_mode": {
    "name": "ipython",
    "version": 3
   },
   "file_extension": ".py",
   "mimetype": "text/x-python",
   "name": "python",
   "nbconvert_exporter": "python",
   "pygments_lexer": "ipython3",
   "version": "3.13.5"
  }
 },
 "nbformat": 4,
 "nbformat_minor": 5
}
