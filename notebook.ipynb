{
 "cells": [
  {
   "cell_type": "code",
   "execution_count": 9,
   "id": "6a30b3b3-3f7d-45b3-b1ce-264f1ba42c94",
   "metadata": {},
   "outputs": [
    {
     "name": "stdin",
     "output_type": "stream",
     "text": [
      "who are you? nabojyoti\n"
     ]
    },
    {
     "name": "stdout",
     "output_type": "stream",
     "text": [
      "welcome nabojyoti\n"
     ]
    }
   ],
   "source": [
    "name = input('who are you?')\n",
    "print('welcome',name)"
   ]
  },
  {
   "cell_type": "code",
   "execution_count": 5,
   "id": "8ef640b3-526f-45e3-af19-b6438cbe11b2",
   "metadata": {},
   "outputs": [
    {
     "name": "stdout",
     "output_type": "stream",
     "text": [
      "2500\n"
     ]
    }
   ],
   "source": [
    "a=20 \n",
    "b=30 \n",
    "c=a+b\n",
    "print(c**2)"
   ]
  },
  {
   "cell_type": "markdown",
   "id": "27f6c80c-a514-4e95-a15e-67a42822fb47",
   "metadata": {},
   "source": [
    "### if elif else "
   ]
  },
  {
   "cell_type": "code",
   "execution_count": 5,
   "id": "e3e78072-af2d-45a6-89fa-98419a0f4fd5",
   "metadata": {},
   "outputs": [
    {
     "name": "stdout",
     "output_type": "stream",
     "text": [
      "smaller\n",
      "finish\n"
     ]
    }
   ],
   "source": [
    "x = 5 \n",
    "if x < 10:\n",
    "    print('smaller')\n",
    "if x > 20:\n",
    "    print('bigger')\n",
    "print('finish')"
   ]
  },
  {
   "cell_type": "code",
   "execution_count": 14,
   "id": "2b209d9b-334d-4ac1-a798-fd36b04835e8",
   "metadata": {},
   "outputs": [
    {
     "name": "stdin",
     "output_type": "stream",
     "text": [
      "enter a number 7\n"
     ]
    },
    {
     "name": "stdout",
     "output_type": "stream",
     "text": [
      "greater then or equal to 5\n",
      "not equal 6\n"
     ]
    }
   ],
   "source": [
    "x = int(input('enter a number'))\n",
    "if x == 5 : \n",
    "    print('equal 5')\n",
    "if x >= 5 : \n",
    "    print('greater then or equal to 5')\n",
    "if x < 6 : \n",
    "    print('less thean 6')\n",
    "if x <= 5 :\n",
    "    print('less then or equal to 5')\n",
    "if x != 6 :  \n",
    "    print('not equal 6')"
   ]
  },
  {
   "cell_type": "code",
   "execution_count": 19,
   "id": "500e2c50-f171-4750-8649-91ba5bc56726",
   "metadata": {},
   "outputs": [
    {
     "name": "stdin",
     "output_type": "stream",
     "text": [
      "enter the value of x 6\n"
     ]
    },
    {
     "name": "stdout",
     "output_type": "stream",
     "text": [
      "medium\n",
      "all done\n"
     ]
    }
   ],
   "source": [
    "x = int(input('enter the value of x'))\n",
    "if x<2: \n",
    "    print('small')\n",
    "elif x < 10: \n",
    "    print('medium')\n",
    "else :\n",
    "    print('large')\n",
    "print('all done')"
   ]
  },
  {
   "cell_type": "code",
   "execution_count": 24,
   "id": "77099f4a-8a28-47a9-b120-b47712449373",
   "metadata": {},
   "outputs": [
    {
     "name": "stdout",
     "output_type": "stream",
     "text": [
      "first -1\n",
      "second 123\n"
     ]
    }
   ],
   "source": [
    "astr = 'Hello Bob' \n",
    "try:\n",
    "    istr = int(astr)\n",
    "except: \n",
    "    istr = -1\n",
    "print('first',istr)\n",
    "\n",
    "astr= '123'\n",
    "try : \n",
    "    istr = int(astr)\n",
    "except : \n",
    "    istr = -1\n",
    "print('second',istr)"
   ]
  },
  {
   "cell_type": "code",
   "execution_count": 25,
   "id": "68e25c4c-94fd-41e9-99bc-0e8ebada97fa",
   "metadata": {},
   "outputs": [
    {
     "name": "stdout",
     "output_type": "stream",
     "text": [
      "hello\n",
      "done -1\n"
     ]
    }
   ],
   "source": [
    "astr = 'bob'\n",
    "try: \n",
    "    print('hello') \n",
    "    istr = int(astr) \n",
    "    print('there') \n",
    "except:\n",
    "    istr=-1\n",
    "print('done',istr) "
   ]
  },
  {
   "cell_type": "code",
   "execution_count": 30,
   "id": "2645ec28-f926-461e-97a8-1f37fdaeb843",
   "metadata": {},
   "outputs": [
    {
     "name": "stdin",
     "output_type": "stream",
     "text": [
      "enter a number -1\n"
     ]
    },
    {
     "name": "stdout",
     "output_type": "stream",
     "text": [
      "not a number\n"
     ]
    }
   ],
   "source": [
    "rawstr = input('enter a number')\n",
    "try: \n",
    "    ival = int(rawstr) \n",
    "except: \n",
    "    ival = -1 \n",
    "\n",
    "if ival > 0 :\n",
    "    print('nice work') \n",
    "else : \n",
    "    print('not a number') "
   ]
  },
  {
   "cell_type": "code",
   "execution_count": 37,
   "id": "bd6a86f7-593c-4252-8f2b-77ed7e2b4f80",
   "metadata": {},
   "outputs": [
    {
     "name": "stdin",
     "output_type": "stream",
     "text": [
      "enter your password 1234\n"
     ]
    },
    {
     "name": "stdout",
     "output_type": "stream",
     "text": [
      "login\n"
     ]
    }
   ],
   "source": [
    "pd=1234\n",
    "rawstr = input('enter your password')\n",
    "try: \n",
    "    ival = int(rawstr) \n",
    "except:\n",
    "    ival = -1\n",
    "if ( ival == pd):\n",
    "    print('login') \n",
    "else : \n",
    "    print('unsuccessful login') "
   ]
  },
  {
   "cell_type": "code",
   "execution_count": 49,
   "id": "bec20d66-43d8-4b13-9390-9c35bb3b6cb8",
   "metadata": {},
   "outputs": [
    {
     "name": "stdin",
     "output_type": "stream",
     "text": [
      "enter the number of hours:  5\n",
      "enter the rate:  5\n"
     ]
    },
    {
     "name": "stdout",
     "output_type": "stream",
     "text": [
      "your salary:  25\n"
     ]
    }
   ],
   "source": [
    "\n",
    "hour= input('enter the number of hours: ')\n",
    "rate= input('enter the rate: ')\n",
    "try: \n",
    "    ival = int(hour)\n",
    "    oval = int( rate)\n",
    "    pay = ival * oval \n",
    "    print ('your salary: ',pay)\n",
    "except: \n",
    "    print('Error, please enter a numeric value')"
   ]
  },
  {
   "cell_type": "markdown",
   "id": "c6ef2d8c-e2f6-476c-a6af-e8aaff12fad1",
   "metadata": {},
   "source": [
    "### loops"
   ]
  },
  {
   "cell_type": "code",
   "execution_count": 1,
   "id": "b0b59179-fc7a-47d9-bc7e-08369c3a3a42",
   "metadata": {},
   "outputs": [
    {
     "name": "stdin",
     "output_type": "stream",
     "text": [
      "> hello\n"
     ]
    },
    {
     "name": "stdout",
     "output_type": "stream",
     "text": [
      "hello\n"
     ]
    },
    {
     "name": "stdin",
     "output_type": "stream",
     "text": [
      "> heyyyy\n"
     ]
    },
    {
     "name": "stdout",
     "output_type": "stream",
     "text": [
      "heyyyy\n"
     ]
    },
    {
     "name": "stdin",
     "output_type": "stream",
     "text": [
      "> done\n"
     ]
    },
    {
     "name": "stdout",
     "output_type": "stream",
     "text": [
      "done\n"
     ]
    }
   ],
   "source": [
    "#while loops \n",
    "while True:\n",
    "    line=input('>')\n",
    "    if line=='done':\n",
    "        break\n",
    "    print(line)\n",
    "print('done')"
   ]
  },
  {
   "cell_type": "code",
   "execution_count": 4,
   "id": "70dd81ac-c0c3-41aa-831a-c8f735bd1691",
   "metadata": {},
   "outputs": [
    {
     "name": "stdin",
     "output_type": "stream",
     "text": [
      "Enter your password:  judy\n"
     ]
    },
    {
     "name": "stdout",
     "output_type": "stream",
     "text": [
      "welcome\n"
     ]
    }
   ],
   "source": [
    "while True:\n",
    "    line= input('Enter your password: ')\n",
    "    if line == 'judy':\n",
    "        break\n",
    "    print('wrong password')\n",
    "print('welcome')"
   ]
  },
  {
   "cell_type": "code",
   "execution_count": 5,
   "id": "cf919eb4-a7f7-485e-b048-f4897978e8bc",
   "metadata": {},
   "outputs": [
    {
     "name": "stdout",
     "output_type": "stream",
     "text": [
      "yoge is mental\n",
      "nabo is mental\n",
      "facts\n"
     ]
    }
   ],
   "source": [
    "friend = ['yoge', 'nabo']\n",
    "for friends in friend : \n",
    "    print(friends,'is mental') \n",
    "print('facts')"
   ]
  },
  {
   "cell_type": "code",
   "execution_count": 18,
   "id": "c29f71e8-1960-447a-a21f-49f3cbefeaf6",
   "metadata": {},
   "outputs": [
    {
     "name": "stdout",
     "output_type": "stream",
     "text": [
      "before -1\n",
      "9 largest 9\n",
      "41 largest 41\n",
      "12 largest 41\n",
      "2 largest 41\n",
      "74 largest 74\n",
      "15 largest 74\n",
      "after 74\n"
     ]
    }
   ],
   "source": [
    "###loopint through an array  \n",
    "largest_so_far = -1 \n",
    "print('before',largest_so_far)\n",
    "for the_num in [9, 41, 12, 2, 74 , 15]:\n",
    "    if the_num > largest_so_far : \n",
    "         largest_so_far = the_num\n",
    "    print(the_num ,'largest', largest_so_far)\n",
    "\n",
    "print('after', largest_so_far)"
   ]
  },
  {
   "cell_type": "code",
   "execution_count": 19,
   "id": "6690aae1-b638-47dc-86ce-fe24a078d6de",
   "metadata": {},
   "outputs": [
    {
     "name": "stdout",
     "output_type": "stream",
     "text": [
      "before 0\n",
      "1 9\n",
      "2 12\n",
      "3 3\n",
      "4 4\n",
      "5 5\n",
      "6 5\n",
      "7 6\n",
      "8 53\n",
      "9 2\n",
      "10 324\n",
      "11 3\n",
      "12 24\n",
      "13 32\n",
      "14 4\n",
      "After 14\n"
     ]
    }
   ],
   "source": [
    "#counting the number of elements in an array\n",
    "counter = 0 \n",
    "print('before',counter)\n",
    "for thing in [9 ,12,3,4,5,5,6,53,2,324,3,24,32,4]:\n",
    "    counter= counter+1\n",
    "    print(counter,thing)\n",
    "print('After',counter)"
   ]
  },
  {
   "cell_type": "code",
   "execution_count": 21,
   "id": "e5481f68-28df-4b53-b744-3e76f24bb6dc",
   "metadata": {},
   "outputs": [
    {
     "name": "stdout",
     "output_type": "stream",
     "text": [
      "before 0\n",
      "9 9\n",
      "21 12\n",
      "24 3\n",
      "28 4\n",
      "33 5\n",
      "38 5\n",
      "44 6\n",
      "97 53\n",
      "99 2\n",
      "423 324\n",
      "426 3\n",
      "450 24\n",
      "482 32\n",
      "486 4\n",
      "sum of number 486\n"
     ]
    }
   ],
   "source": [
    "#sum of an array\n",
    "counter = 0 \n",
    "print('before',counter)\n",
    "for thing in [9 ,12,3,4,5,5,6,53,2,324,3,24,32,4]:\n",
    "    counter= thing+counter\n",
    "    print(counter,thing)\n",
    "print('sum of number',counter)"
   ]
  },
  {
   "cell_type": "code",
   "execution_count": 23,
   "id": "5dd6b7ac-7625-461b-9be5-c518df534fe4",
   "metadata": {},
   "outputs": [
    {
     "name": "stdout",
     "output_type": "stream",
     "text": [
      "1 9\n",
      "2 12\n",
      "3 3\n",
      "4 4\n",
      "5 5\n",
      "6 5\n",
      "7 6\n",
      "8 53\n",
      "9 2\n",
      "10 324\n",
      "11 3\n",
      "12 24\n",
      "13 32\n",
      "14 4\n",
      "average  34.714285714285715\n"
     ]
    }
   ],
   "source": [
    "#average of an array\n",
    "counter = 0 \n",
    "sum=0\n",
    "for thing in [9 ,12,3,4,5,5,6,53,2,324,3,24,32,4]:\n",
    "    sum=thing+sum\n",
    "    counter=counter+1\n",
    "    print(counter,thing)\n",
    "avg=sum/counter\n",
    "print('average ',avg)"
   ]
  },
  {
   "cell_type": "code",
   "execution_count": 6,
   "id": "2d3b3209-73c5-4ef2-860e-b325f4ddeb44",
   "metadata": {},
   "outputs": [
    {
     "name": "stdout",
     "output_type": "stream",
     "text": [
      "before False\n",
      "True 74\n",
      "after True\n"
     ]
    }
   ],
   "source": [
    "found = False\n",
    "print('before',found)\n",
    "for value in [9,41,12,3,74,15]:\n",
    "     if value == 74: \n",
    "        found = True \n",
    "        print(found, value)\n",
    "print('after',found)"
   ]
  },
  {
   "cell_type": "markdown",
   "id": "3903161a-3471-4c1e-80f4-de558811181b",
   "metadata": {},
   "source": [
    "### string "
   ]
  },
  {
   "cell_type": "code",
   "execution_count": 10,
   "id": "7559404f-2ab7-4594-afba-18df5ceed087",
   "metadata": {},
   "outputs": [
    {
     "name": "stdin",
     "output_type": "stream",
     "text": [
      "Enter :  nine \n",
      "enter : 9\n"
     ]
    },
    {
     "name": "stdout",
     "output_type": "stream",
     "text": [
      "8 nine \n"
     ]
    }
   ],
   "source": [
    "#converting the string data type into other data type before using\n",
    "name = input('Enter : ')\n",
    "apple = input('enter :')\n",
    "x=int(apple)-1 \n",
    "print(x, name)"
   ]
  },
  {
   "cell_type": "code",
   "execution_count": 14,
   "id": "1597757e-720b-4f81-9206-f967f459e5ba",
   "metadata": {},
   "outputs": [
    {
     "name": "stdin",
     "output_type": "stream",
     "text": [
      "Enter your name:  yogesh\n",
      "Enter a number:  3\n"
     ]
    },
    {
     "name": "stdout",
     "output_type": "stream",
     "text": [
      "the letter at index 3 is  e\n"
     ]
    }
   ],
   "source": [
    "#indexing of an string \n",
    "name = input('Enter your name: ')\n",
    "num = int(input('Enter a number: '))\n",
    "letter = name[num]\n",
    "print('the letter at index',num,'is ',letter)"
   ]
  },
  {
   "cell_type": "code",
   "execution_count": 6,
   "id": "16475913-0534-4cd7-9f2a-46fcfd276f52",
   "metadata": {},
   "outputs": [
    {
     "name": "stdin",
     "output_type": "stream",
     "text": [
      "enter your name:  whatthefak\n"
     ]
    },
    {
     "name": "stdout",
     "output_type": "stream",
     "text": [
      "the length of your name:  10\n"
     ]
    }
   ],
   "source": [
    "#using len function to calculate the length of the string\n",
    "name = input('enter your name: ')\n",
    "print('the length of your name: ',len(name))"
   ]
  },
  {
   "cell_type": "code",
   "execution_count": 7,
   "id": "8d7457af-41e1-440b-b3f3-18682ca37709",
   "metadata": {},
   "outputs": [
    {
     "name": "stdin",
     "output_type": "stream",
     "text": [
      "enter your name:  gaurav\n"
     ]
    },
    {
     "name": "stdout",
     "output_type": "stream",
     "text": [
      "0 g\n",
      "1 a\n",
      "2 u\n",
      "3 r\n",
      "4 a\n",
      "5 v\n"
     ]
    }
   ],
   "source": [
    "#showing the index of each letter of a character using while loop\n",
    "name = input('enter your name: ')\n",
    "index = 0\n",
    "while index < len(name):\n",
    "    letter = name[index]\n",
    "    print(index, letter)\n",
    "    index = index + 1 "
   ]
  },
  {
   "cell_type": "code",
   "execution_count": 8,
   "id": "747c22c7-7dc5-449e-bb2f-da6a110322dc",
   "metadata": {},
   "outputs": [
    {
     "name": "stdin",
     "output_type": "stream",
     "text": [
      "enter your name:  gaurav\n"
     ]
    },
    {
     "name": "stdout",
     "output_type": "stream",
     "text": [
      "0 g\n",
      "1 a\n",
      "2 u\n",
      "3 r\n",
      "4 a\n",
      "5 v\n"
     ]
    }
   ],
   "source": [
    "#showing the index of each letter of a character using for loop\n",
    "name = input('enter your name: ')\n",
    "index = 0 \n",
    "for letter in name : \n",
    "    print(index , letter) \n",
    "    index = index + 1\n"
   ]
  },
  {
   "cell_type": "code",
   "execution_count": 20,
   "id": "04baeed2-65fa-400d-b58e-d3a7efb3f629",
   "metadata": {},
   "outputs": [
    {
     "name": "stdin",
     "output_type": "stream",
     "text": [
      "enter your name:  gaurav\n"
     ]
    },
    {
     "name": "stdout",
     "output_type": "stream",
     "text": [
      "gaurav\n",
      "2\n"
     ]
    }
   ],
   "source": [
    "#counting the number of a in a character using for loop\n",
    "name = input('enter your name: ')\n",
    "counter = 0\n",
    "for letter in name : \n",
    "    if letter == 'a':\n",
    "        counter = counter + 1\n",
    "print(name)\n",
    "print(counter)"
   ]
  },
  {
   "cell_type": "code",
   "execution_count": 24,
   "id": "55d678b3-1d72-42c3-ba82-da4445f5ba22",
   "metadata": {},
   "outputs": [
    {
     "name": "stdin",
     "output_type": "stream",
     "text": [
      "enter your name:  gaurav\n"
     ]
    },
    {
     "name": "stdout",
     "output_type": "stream",
     "text": [
      "ur\n",
      "gaurav\n",
      "gaur\n"
     ]
    }
   ],
   "source": [
    "#string slicing\n",
    "name = input('enter your name: ')\n",
    "print(name[2:4])\n",
    "print(name[:])\n",
    "print(name[:4])\n"
   ]
  },
  {
   "cell_type": "code",
   "execution_count": 32,
   "id": "d11daab8-5bef-45b1-8b25-fc3cba14055c",
   "metadata": {},
   "outputs": [
    {
     "name": "stdin",
     "output_type": "stream",
     "text": [
      "enter your name gaurav\n"
     ]
    },
    {
     "name": "stdout",
     "output_type": "stream",
     "text": [
      "The letter \"a\" was found\n"
     ]
    }
   ],
   "source": [
    "#using \"in\" as a logical operator\n",
    "name = input('enter your name')\n",
    "if 'a' in name:\n",
    "    print('The letter \"a\" was found') \n",
    "else :\n",
    "     print('The letter was not found')"
   ]
  },
  {
   "cell_type": "code",
   "execution_count": 34,
   "id": "18d77445-c33f-4903-bfa1-3fc33c2b1c35",
   "metadata": {},
   "outputs": [
    {
     "data": {
      "text/plain": [
       "['__add__',\n",
       " '__class__',\n",
       " '__contains__',\n",
       " '__delattr__',\n",
       " '__dir__',\n",
       " '__doc__',\n",
       " '__eq__',\n",
       " '__format__',\n",
       " '__ge__',\n",
       " '__getattribute__',\n",
       " '__getitem__',\n",
       " '__getnewargs__',\n",
       " '__getstate__',\n",
       " '__gt__',\n",
       " '__hash__',\n",
       " '__init__',\n",
       " '__init_subclass__',\n",
       " '__iter__',\n",
       " '__le__',\n",
       " '__len__',\n",
       " '__lt__',\n",
       " '__mod__',\n",
       " '__mul__',\n",
       " '__ne__',\n",
       " '__new__',\n",
       " '__reduce__',\n",
       " '__reduce_ex__',\n",
       " '__repr__',\n",
       " '__rmod__',\n",
       " '__rmul__',\n",
       " '__setattr__',\n",
       " '__sizeof__',\n",
       " '__str__',\n",
       " '__subclasshook__',\n",
       " 'capitalize',\n",
       " 'casefold',\n",
       " 'center',\n",
       " 'count',\n",
       " 'encode',\n",
       " 'endswith',\n",
       " 'expandtabs',\n",
       " 'find',\n",
       " 'format',\n",
       " 'format_map',\n",
       " 'index',\n",
       " 'isalnum',\n",
       " 'isalpha',\n",
       " 'isascii',\n",
       " 'isdecimal',\n",
       " 'isdigit',\n",
       " 'isidentifier',\n",
       " 'islower',\n",
       " 'isnumeric',\n",
       " 'isprintable',\n",
       " 'isspace',\n",
       " 'istitle',\n",
       " 'isupper',\n",
       " 'join',\n",
       " 'ljust',\n",
       " 'lower',\n",
       " 'lstrip',\n",
       " 'maketrans',\n",
       " 'partition',\n",
       " 'removeprefix',\n",
       " 'removesuffix',\n",
       " 'replace',\n",
       " 'rfind',\n",
       " 'rindex',\n",
       " 'rjust',\n",
       " 'rpartition',\n",
       " 'rsplit',\n",
       " 'rstrip',\n",
       " 'split',\n",
       " 'splitlines',\n",
       " 'startswith',\n",
       " 'strip',\n",
       " 'swapcase',\n",
       " 'title',\n",
       " 'translate',\n",
       " 'upper',\n",
       " 'zfill']"
      ]
     },
     "execution_count": 34,
     "metadata": {},
     "output_type": "execute_result"
    }
   ],
   "source": [
    "stuff = 'Hello world'\n",
    "type(stuff)\n",
    "dir(stuff)"
   ]
  },
  {
   "cell_type": "markdown",
   "id": "a762206e-9a87-4259-8e74-718fa93e2e82",
   "metadata": {},
   "source": [
    "## NUMPY ARRAY "
   ]
  },
  {
   "cell_type": "code",
   "execution_count": 7,
   "id": "a1bcaed8-0b5f-4a7a-9a63-b5ce457ee095",
   "metadata": {},
   "outputs": [
    {
     "name": "stdout",
     "output_type": "stream",
     "text": [
      "[1 2 3 4 5]\n",
      "2.3.2\n"
     ]
    }
   ],
   "source": [
    "#inporting a numpy array\n",
    "import numpy as np\n",
    "arr = np.array([1,2,3,4,5])\n",
    "print(arr)\n",
    "print(np.__version__)"
   ]
  },
  {
   "cell_type": "code",
   "execution_count": 13,
   "id": "56876afa-f103-40bb-bb0b-ab5b60a5e4e1",
   "metadata": {},
   "outputs": [
    {
     "name": "stdout",
     "output_type": "stream",
     "text": [
      "[[1 2 3]\n",
      " [4 5 6]]\n"
     ]
    }
   ],
   "source": [
    "#2D array \n",
    "import numpy as np\n",
    "arr = np.array([[1,2,3],[4,5,6]])\n",
    "print(arr)"
   ]
  },
  {
   "cell_type": "code",
   "execution_count": 15,
   "id": "52bfb906-4cce-4f76-b1d0-a8109c187696",
   "metadata": {},
   "outputs": [
    {
     "name": "stdout",
     "output_type": "stream",
     "text": [
      "[[[1 2 3]\n",
      "  [4 5 6]]\n",
      "\n",
      " [[1 2 3]\n",
      "  [4 5 6]]]\n"
     ]
    }
   ],
   "source": [
    "#3D array \n",
    "import numpy as np\n",
    "arr = np.array([[[1,2,3],[4,5,6]] , [[1,2,3],[4,5,6]]])\n",
    "print(arr)"
   ]
  },
  {
   "cell_type": "code",
   "execution_count": 17,
   "id": "a6b15d2d-3d5b-4424-bc65-abb888e55110",
   "metadata": {},
   "outputs": [
    {
     "name": "stdout",
     "output_type": "stream",
     "text": [
      "1\n",
      "2\n",
      "3\n",
      "0\n"
     ]
    }
   ],
   "source": [
    "# .ndim is a keyword used to see the dimensions of the array\n",
    "import numpy as np\n",
    "a = np.array([1,2,3,4,5])\n",
    "b = np.array([[1,2,3],[4,5,6]])\n",
    "c = np.array([[[1,2,3],[4,5,6]] , [[1,2,3],[4,5,6]]])\n",
    "d = np.array(42)\n",
    "print(a.ndim)\n",
    "print(b.ndim)\n",
    "print(c.ndim)\n",
    "print(d.ndim)"
   ]
  },
  {
   "cell_type": "code",
   "execution_count": 19,
   "id": "225f78a0-2f8c-4aa5-9ab3-110f649d6555",
   "metadata": {},
   "outputs": [
    {
     "name": "stdout",
     "output_type": "stream",
     "text": [
      "[[[[[1 2 3 4]]]]]\n",
      "number of dimensions:  5\n"
     ]
    }
   ],
   "source": [
    "# .ndmin keyword is used to change the dimension of the array\n",
    "import numpy as np\n",
    "arr = np.array([1,2,3,4],ndmin=5)\n",
    "print(arr)\n",
    "print('number of dimensions: ',arr.ndim)\n"
   ]
  },
  {
   "cell_type": "code",
   "execution_count": 28,
   "id": "c7ce3ced-933d-491b-8f16-73c6892e1aa8",
   "metadata": {},
   "outputs": [
    {
     "name": "stdout",
     "output_type": "stream",
     "text": [
      "[[1 2 3 4 5]\n",
      " [4 5 6 7 8]]\n",
      "second element of the first row:  2\n"
     ]
    }
   ],
   "source": [
    "#accessing the element of the array\n",
    "import numpy as np\n",
    "arr = np.array([[1,2,3,4,5],[4,5,6,7,8]])\n",
    "print(arr)\n",
    "print('second element of the first row: ',arr[0,1])"
   ]
  },
  {
   "cell_type": "code",
   "execution_count": 32,
   "id": "9132f8b0-a069-42a1-aeea-d02b30692eec",
   "metadata": {},
   "outputs": [
    {
     "name": "stdout",
     "output_type": "stream",
     "text": [
      "1\n",
      "2\n",
      "3\n",
      "4\n",
      "5\n",
      "6\n",
      "7\n",
      "8\n"
     ]
    }
   ],
   "source": [
    "#nditer is a function used to iterate through the 3D array\n",
    "import numpy as np\n",
    "arr = np.array([[[1,2],[3,4]],[[5,6],[7,8]]])\n",
    "for x in np.nditer(arr):\n",
    "    print(x)"
   ]
  },
  {
   "cell_type": "code",
   "execution_count": 33,
   "id": "19612604-f492-4118-bc2d-9fe0b9420c88",
   "metadata": {},
   "outputs": [
    {
     "name": "stdout",
     "output_type": "stream",
     "text": [
      "[1 2 3 4 5 6]\n"
     ]
    }
   ],
   "source": [
    "# .concatenate is used to join two array\n",
    "import numpy as np\n",
    "arr1  = np.array([1,2,3])\n",
    "arr2  = np.array([4,5,6])\n",
    "arr=np.concatenate((arr1,arr2))\n",
    "print(arr)"
   ]
  },
  {
   "cell_type": "code",
   "execution_count": 37,
   "id": "16619ba9-f59e-4e54-9bd3-43fa55ee65f9",
   "metadata": {},
   "outputs": [
    {
     "name": "stdout",
     "output_type": "stream",
     "text": [
      "(array([3, 5, 6]),)\n"
     ]
    }
   ],
   "source": [
    "#.where is used to find the indexes of the element in an array \n",
    "import numpy as np \n",
    "arr= np.array([1,2,3,4,5,4,4])\n",
    "x = np.where(arr==4)\n",
    "print(x)"
   ]
  },
  {
   "cell_type": "code",
   "execution_count": 39,
   "id": "21cb7c42-9f7b-4325-8170-259b9d9d04da",
   "metadata": {},
   "outputs": [
    {
     "name": "stdout",
     "output_type": "stream",
     "text": [
      "[1 2 3 4 4 4 5]\n"
     ]
    }
   ],
   "source": [
    "# .sort is used to sort an array \n",
    "import numpy as np \n",
    "arr= np.array([1,2,3,4,5,4,4]) \n",
    "print(np.sort(arr)) # returns the copy of the array"
   ]
  },
  {
   "cell_type": "code",
   "execution_count": 41,
   "id": "812b169a-4ec6-42e4-91de-d91b45243bf9",
   "metadata": {},
   "outputs": [
    {
     "name": "stdout",
     "output_type": "stream",
     "text": [
      "[1 3]\n"
     ]
    }
   ],
   "source": [
    "# true to accept an element  false\n",
    "import numpy as np \n",
    "arr= np.array([1,2,3,4]) \n",
    "x = [True, False ,True , False]\n",
    "newarr= arr[x]\n",
    "print( newarr)"
   ]
  },
  {
   "cell_type": "markdown",
   "id": "2f18e999-ca1d-421e-b268-c9257e2ecdf9",
   "metadata": {},
   "source": [
    "### python dictionaries"
   ]
  },
  {
   "cell_type": "code",
   "execution_count": 3,
   "id": "abbc6428-7e9d-4409-838d-66501f7022af",
   "metadata": {},
   "outputs": [
    {
     "name": "stdout",
     "output_type": "stream",
     "text": [
      "{'money': 1, 'candy': 2, 'tissue': 3}\n",
      "4\n"
     ]
    }
   ],
   "source": [
    "# using dictionaries we can store different values in one variable \n",
    "purse = dict()\n",
    "purse['money'] = 1\n",
    "purse['candy'] = 2 \n",
    "purse['tissue'] = 3 \n",
    "print(purse)\n",
    "print(purse['tissue']+1)"
   ]
  },
  {
   "cell_type": "markdown",
   "id": "ba934d06-dca6-48f3-852c-dd8b7fa8deee",
   "metadata": {},
   "source": [
    "### reading file"
   ]
  },
  {
   "cell_type": "code",
   "execution_count": 3,
   "id": "335f7ff3-abda-4cef-9e34-39a41c1558db",
   "metadata": {},
   "outputs": [
    {
     "name": "stdout",
     "output_type": "stream",
     "text": [
      "<_io.TextIOWrapper name='Gaurav Gurung.txt' mode='r' encoding='cp1252'>\n"
     ]
    }
   ],
   "source": [
    "#using functions to locate a file \n",
    "fhand = open('Gaurav Gurung.txt')\n",
    "print(fhand)"
   ]
  },
  {
   "cell_type": "code",
   "execution_count": 5,
   "id": "2b3c27a5-ea67-4da1-81d6-94cdd2073e9c",
   "metadata": {},
   "outputs": [
    {
     "name": "stdout",
     "output_type": "stream",
     "text": [
      "Yogesh Chauhan Rajput singh\n",
      "\n",
      "he aint understanding shii\n"
     ]
    }
   ],
   "source": [
    "#printing the content of the file\n",
    "fhand = open('Gaurav Gurung.txt')\n",
    "for content in fhand: \n",
    "    print(content)"
   ]
  },
  {
   "cell_type": "code",
   "execution_count": 1,
   "id": "ccebd803-a71d-421d-98ce-d00cae003c4a",
   "metadata": {},
   "outputs": [],
   "source": [
    "# using \".startswith\" \n",
    "fhand = open('Gaurav Gurung.txt')\n",
    "for line in fhand:\n",
    "    if line.startswith('from: '):\n",
    "        print(line)"
   ]
  },
  {
   "cell_type": "code",
   "execution_count": 1,
   "id": "6dfc0408-12dd-4ae3-b261-bfcf06f60223",
   "metadata": {},
   "outputs": [
    {
     "name": "stdout",
     "output_type": "stream",
     "text": [
      "[[-0.38988637  1.77978937  1.77182156]\n",
      " [ 0.9501172   0.49753608  0.53479063]]\n"
     ]
    },
    {
     "name": "stderr",
     "output_type": "stream",
     "text": [
      "C:\\Users\\Gaurav\\AppData\\Local\\Temp\\ipykernel_3084\\701472056.py:13: UserWarning: \n",
      "\n",
      "`distplot` is a deprecated function and will be removed in seaborn v0.14.0.\n",
      "\n",
      "Please adapt your code to use either `displot` (a figure-level function with\n",
      "similar flexibility) or `histplot` (an axes-level function for histograms).\n",
      "\n",
      "For a guide to updating your code to use the new functions, please see\n",
      "https://gist.github.com/mwaskom/de44147ed2974457ad6372750bbe5751\n",
      "\n",
      "  sns.distplot(random.normal(size=1000),hist=True)\n"
     ]
    },
    {
     "data": {
      "image/png": "[encoded data removed]",
      "text/plain": [
       "<Figure size 640x480 with 1 Axes>"
      ]
     },
     "metadata": {},
     "output_type": "display_data"
    }
   ],
   "source": [
    "# using libraries of python \n",
    "import numpy\n",
    "from numpy import random\n",
    "import matplotlib.pyplot as plt \n",
    "import seaborn as sns\n",
    "#generate a random normal distribution of size 1000\n",
    "x=random.normal(size=1000)\n",
    "#generating a random normal distribution of size 2*3\n",
    "x=random.normal(size=(2,3))\n",
    "#generating a random normal distribution of size 2*3 with mean at 1 and standard deviation \n",
    "x=random.normal(loc=1,scale=2,size=(2,3))\n",
    "print(x)\n",
    "sns.distplot(random.normal(size=1000),hist=True)\n",
    "plt.show()"
   ]
  },
  {
   "cell_type": "code",
   "execution_count": 10,
   "id": "49dfcf11-a2eb-4410-8f0c-a5aaa9299589",
   "metadata": {},
   "outputs": [
    {
     "name": "stdout",
     "output_type": "stream",
     "text": [
      "[ 5  6  6  2  2  6  5  7  5  4  3  4  7  9  6  5  8  4  3  7  5  6  6  5\n",
      "  4  4  5  6  8  5  6  6  6  5  5  4  8  6  8  5  7  3  6  6  8  7  6  7\n",
      "  2  2  3  4  4  6  6  7  6  9  3  3  3  5  5  5  8  4  6  6  7  5  7  4\n",
      "  6  2  5  4  4  7  6  4  4  5  6  5  6  3  5  7  6  5  4  6  4  3  5  4\n",
      "  3  4  6  5  5  3  5  6  4  5 10  6  5  5  4  5  7  7  5  3  7  4  5  5\n",
      "  4  5  5  7  6  2  4  3  3  4  6  4  6  6  6  4  5  3  5  5  8  5  4  5\n",
      "  4  4  0  2  3  6  5  6  4  4  8  5  4  4  7  6  6  2  5  5  4  4  4  4\n",
      "  4  3  4  5  4  3  3  4  7  3  6  5  6  5  6  5  5  3  4  8  8  4  6  4\n",
      "  6  9  4  2  6  9  4  7  5  5  6  5  3  4  6  6  5  7  6  5  7  6  6  4\n",
      "  8  5  9  5  3  2  6  5  4  5  3  7  4  5  6  5  7  6  5  7  4  6  5  6\n",
      "  3  4  4  6  5  5  3  7  5  6  2  9  7  4  4  6  5  5  4  7  4  4  4  7\n",
      "  3  6  4  5  7  5  5  6  5  4  6  4  6  7  2  4  7  8  5  1  7  6  7  5\n",
      "  3  7  4  6  5  7  5  5  9  5  5  3  5  7  6  4  2  6  5  4  5  6  6  4\n",
      "  5  4  6  5  5  7  6  5  5  6  6  5  4  7  9  3  4  8  4  7  6  3  6  7\n",
      "  3  5  3  5  6  5  5  3  9  5  6  6  7  8  7  3  3  6  5  4  3  6  5  2\n",
      "  4  6  7  6  3  6  3  6  4  5  4  4  5  6  7  4  4  8  8  5  6  5  3  5\n",
      "  5  5  5  5  6  4  6  2  6  7  7  5  3  6  5  3  7  5  4  7  6  5  6  4\n",
      "  6  4  7  4  6  5  5  5  6  6  7  5  7  4  5  5  4  4  8  7  4  5  8  4\n",
      "  4  5  7  6  2  5  4  4  3  4  5  4  7  5  5  4  3  4  5  5  4  6  6  2\n",
      "  5  5  5  6  6  3  5  4  6  5  6  5  4  3  6  2  5  4  5  4  5  5  2  6\n",
      "  4  5  6  5  6  8  2  8  7  4  6  5  6  6  5  3  4  4  4  7  4  5  5  6\n",
      "  4  6  3  4  8  4  3  5  4  4  6  3  6  4  3  7  4  3  7  5  6  3  7  6\n",
      "  7  2  5  7  6  6  4  6  3  6  7  3  6  4  4  5  4  5  4  7  8  4  7  5\n",
      "  6  5  2  4  6  5  4  4  4  6  7  5  7  5  4  5  6  5  6  5  6  6  7  4\n",
      "  5  3  7  4  4  4  5  4  5  7  5  7  6  3  6  6  6  5  5  4  7  5  4  5\n",
      "  4  5  7  6  5  1  4  8  5  4  8  3  5  7  5  5  4  4  4  5  6  6  8  5\n",
      "  6  7  7  6  5  6  4  6  5  2  5  5  6  4  6  7  5  6  8  4  3  6  3  5\n",
      "  2  2  9  3  7  5  8  6  3  2  3  5  3  7  4  9  4  5  6  4  4  3  2  7\n",
      "  6  4  5  4  4  7  4  4  3  4  5  4  8  7  3  3  5  4  5  5  7  6  7  4\n",
      "  5  6  6  4  4  2  7  6  3  3  5  5  4  5  6  4  4  5  6  5  5  7  5  5\n",
      "  2  7  5  4  8  4  6  5  4  4  7  5  2  5  5  5  6  7  5  5  5  6  3  5\n",
      "  3  5  3  6  6  5  5  8  3  6  5  5  6  9  4  2  3  1  6  7  6  6  6  4\n",
      "  6  4  3  4  6  6  4  3  4  5  3  4  6  4  4  6  3  3  2  4  6  6  5  6\n",
      "  7  5  5  5  1  3  6  6  3  6  7  3  6  6  7  3  4  3  6  7  5  6  4  5\n",
      "  4  7  6  6  4  4  4  5  4  4  7  8  4  3  3  5  6  4  6  5  6  4  6  2\n",
      "  4  5  5  2  5  6  3  3  8  3  5  4  3  4  4  6  4  7  4  3  4  5  5  7\n",
      "  6  3  4  6  5  4  7  2  4  5  5  4  6  5  8  6  8  4  5  9  5  5  6  7\n",
      "  7  7  5  7  8  4  5  3  4  7  5  7  5  2  5  2  7  5  8  6  5  2  1  5\n",
      "  3  5  7  5  4  5  9  7  4  4  4  5  7  4  2  6  4  4  7  3  7  4  6  4\n",
      "  2  7  8  5  8  6  5  3  5  5  3  3  2  6  5  6  2  6  4  3  8  6  5  4\n",
      "  3  5  5  6  7  3  6  6  5  5  5  5  4  3  6  6  8  8  5  9  8  6  4  5\n",
      "  4  4  4  6  5  4  5  5  4  9  4  5  7  6  5  6]\n"
     ]
    }
   ],
   "source": [
    "from numpy import random \n",
    "x = random.binomial(n=10,p=0.5,size=1000)\n",
    "print(x)"
   ]
  },
  {
   "cell_type": "code",
   "execution_count": 12,
   "id": "b740e17c-9e6d-493f-90e2-728d6f91e1b9",
   "metadata": {},
   "outputs": [
    {
     "name": "stderr",
     "output_type": "stream",
     "text": [
      "C:\\Users\\Gaurav\\AppData\\Local\\Temp\\ipykernel_14096\\2654316666.py:4: UserWarning: \n",
      "\n",
      "`distplot` is a deprecated function and will be removed in seaborn v0.14.0.\n",
      "\n",
      "Please adapt your code to use either `displot` (a figure-level function with\n",
      "similar flexibility) or `histplot` (an axes-level function for histograms).\n",
      "\n",
      "For a guide to updating your code to use the new functions, please see\n",
      "https://gist.github.com/mwaskom/de44147ed2974457ad6372750bbe5751\n",
      "\n",
      "  sns.distplot( random.binomial(n=10,p=0.5,size=1000),hist=True,kde=False)\n"
     ]
    },
    {
     "data": {
      "image/png": "[encoded data removed]",
      "text/plain": [
       "<Figure size 640x480 with 1 Axes>"
      ]
     },
     "metadata": {},
     "output_type": "display_data"
    }
   ],
   "source": [
    "#binomial distribution\n",
    "from numpy import random\n",
    "import matplotlib.pyplot as plt\n",
    "import seaborn as sns\n",
    "sns.distplot( random.binomial(n=10,p=0.5,size=1000),hist=True,kde=False)\n",
    "plt.show()"
   ]
  },
  {
   "cell_type": "code",
   "execution_count": 4,
   "id": "7e5a97b5-c29f-41d3-8860-7958d0295307",
   "metadata": {},
   "outputs": [
    {
     "name": "stdout",
     "output_type": "stream",
     "text": [
      "[0 1 0 0 1 5 1 1 0 3]\n"
     ]
    }
   ],
   "source": [
    "#poisson distribution\n",
    "from numpy import random \n",
    "x= random.poisson(lam=1,size=10)\n",
    "print(x)"
   ]
  },
  {
   "cell_type": "code",
   "execution_count": 8,
   "id": "75a8b887-f3f6-413e-94e2-678afb85b4ef",
   "metadata": {},
   "outputs": [
    {
     "name": "stderr",
     "output_type": "stream",
     "text": [
      "C:\\Users\\Gaurav\\AppData\\Local\\Temp\\ipykernel_16060\\590595262.py:5: UserWarning: \n",
      "\n",
      "`distplot` is a deprecated function and will be removed in seaborn v0.14.0.\n",
      "\n",
      "Please adapt your code to use either `displot` (a figure-level function with\n",
      "similar flexibility) or `histplot` (an axes-level function for histograms).\n",
      "\n",
      "For a guide to updating your code to use the new functions, please see\n",
      "https://gist.github.com/mwaskom/de44147ed2974457ad6372750bbe5751\n",
      "\n",
      "  sns.distplot( random.poisson(lam=2,size=1000),kde=False)\n"
     ]
    },
    {
     "data": {
      "image/png": "[encoded data removed]",
      "text/plain": [
       "<Figure size 640x480 with 1 Axes>"
      ]
     },
     "metadata": {},
     "output_type": "display_data"
    }
   ],
   "source": [
    "#visualization of poission Distribution \n",
    "from numpy import random\n",
    "import matplotlib.pyplot as plt\n",
    "import seaborn as sns\n",
    "sns.distplot( random.poisson(lam=2,size=1000),kde=False)\n",
    "plt.show()"
   ]
  },
  {
   "cell_type": "code",
   "execution_count": 10,
   "id": "68bff7e6-ed47-4db2-93ef-dd27d0352148",
   "metadata": {},
   "outputs": [],
   "source": [
    "#polymorphism abstraction inheritance encaptulation class"
   ]
  },
  {
   "cell_type": "markdown",
   "id": "248452c2-db24-4bd4-af12-09a08215507e",
   "metadata": {},
   "source": [
    "### pandas "
   ]
  },
  {
   "cell_type": "code",
   "execution_count": 8,
   "id": "e60ef11e-de79-459b-92d3-1608c6d734e5",
   "metadata": {},
   "outputs": [
    {
     "name": "stdout",
     "output_type": "stream",
     "text": [
      "2.3.1\n",
      "     car  passing\n",
      "0    BMW        3\n",
      "1  volvo        7\n",
      "2   ford        2\n"
     ]
    }
   ],
   "source": [
    "#creating a simple pandas dataframe from a dictonary \n",
    "import pandas as pd \n",
    "print(pd.__version__)\n",
    "mydataset = {\n",
    "    'car': [\"BMW\",\"volvo\",\"ford\"],\n",
    "    'passing':[3,7,2]\n",
    "}\n",
    "myvar= pd.DataFrame(mydataset)\n",
    "print(myvar)"
   ]
  },
  {
   "cell_type": "code",
   "execution_count": 12,
   "id": "cb5f0432-f7af-49b3-9764-b04d9a34ba3d",
   "metadata": {},
   "outputs": [
    {
     "name": "stdout",
     "output_type": "stream",
     "text": [
      "day1    420\n",
      "day2    380\n",
      "day3    390\n",
      "dtype: int64\n"
     ]
    }
   ],
   "source": [
    "#creating a simple pandas series from a dictonary\n",
    "import pandas as pd \n",
    "calories= {\"day1\":420,\"day2\":380,\"day3\":390}\n",
    "myvar=pd.Series(calories)\n",
    "print(myvar)"
   ]
  },
  {
   "cell_type": "code",
   "execution_count": 17,
   "id": "ad87f777-cfd8-4937-b948-484469ad2a44",
   "metadata": {},
   "outputs": [
    {
     "name": "stdout",
     "output_type": "stream",
     "text": [
      "     sepal length  sepal width  petal length  petal width    species\n",
      "0             5.1          3.5           1.4          0.2     setosa\n",
      "1             4.9          3.0           1.4          0.2     setosa\n",
      "2             4.7          3.2           1.3          0.2     setosa\n",
      "3             4.6          3.1           1.5          0.2     setosa\n",
      "4             5.0          3.6           1.4          0.2     setosa\n",
      "..            ...          ...           ...          ...        ...\n",
      "145           6.7          3.0           5.2          2.3  virginica\n",
      "146           6.3          2.5           5.0          1.9  virginica\n",
      "147           6.5          3.0           5.2          2.0  virginica\n",
      "148           6.2          3.4           5.4          2.3  virginica\n",
      "149           5.9          3.0           5.1          1.8  virginica\n",
      "\n",
      "[150 rows x 5 columns]\n"
     ]
    }
   ],
   "source": [
    "#reading CSV file from URL \n",
    "import pandas as pd\n",
    "#url=\"https://raw.githubusercontent.com/cs109/2014_data/master/countries.scv\"\n",
    "url=\"https://raw.githubusercontent.com/vizydrop/data-samples/master/flowers.csv\"\n",
    "df=pd.read_csv(url)\n",
    "print(df)"
   ]
  },
  {
   "cell_type": "markdown",
   "id": "dd613db9-4166-4977-9d57-7ec615a42d73",
   "metadata": {},
   "source": [
    "### pattern"
   ]
  },
  {
   "cell_type": "code",
   "execution_count": 22,
   "id": "048a9828-5859-4f64-8512-3693b136a7f2",
   "metadata": {},
   "outputs": [
    {
     "name": "stdout",
     "output_type": "stream",
     "text": [
      "enter a line of text: \n"
     ]
    },
    {
     "name": "stdin",
     "output_type": "stream",
     "text": [
      " 1 1 1 1 2 2 2 3 3 3 4 4 4 \n"
     ]
    },
    {
     "name": "stdout",
     "output_type": "stream",
     "text": [
      "word:  ['1', '1', '1', '1', '2', '2', '2', '3', '3', '3', '4', '4', '4']\n",
      "counting...\n",
      "counts {'1': 4, '2': 3, '3': 3, '4': 3}\n"
     ]
    }
   ],
   "source": [
    "counts = dict()\n",
    "print('enter a line of text: ')\n",
    "line= input('')\n",
    "words=line.split()\n",
    "print('word: ',words)\n",
    "\n",
    "print('counting...')\n",
    "for word in words:\n",
    "    counts[word]=counts.get(word,0)+1\n",
    "print('counts',counts)"
   ]
  },
  {
   "cell_type": "code",
   "execution_count": 1,
   "id": "46a5c3dd-e784-4b56-99ed-f005fc0cc80b",
   "metadata": {},
   "outputs": [
    {
     "name": "stdout",
     "output_type": "stream",
     "text": [
      "enter a line of text: \n"
     ]
    },
    {
     "name": "stdin",
     "output_type": "stream",
     "text": [
      " ny name is 123 and i am from 456\n"
     ]
    },
    {
     "name": "stdout",
     "output_type": "stream",
     "text": [
      "word:  ['ny', 'name', 'is', '123', 'and', 'i', 'am', 'from', '456']\n",
      "counting...\n",
      "counts {'ny': 1, 'name': 1, 'is': 1, '123': 1, 'and': 1, 'i': 1, 'am': 1, 'from': 1, '456': 1}\n",
      "concatination of the numbers:  123456\n",
      "additions of the numbers 579\n",
      "Special characters are not present.\n"
     ]
    }
   ],
   "source": [
    "counts = dict()\n",
    "print('enter a line of text: ')\n",
    "line= input('')\n",
    "words=line.split()\n",
    "print('word: ',words)\n",
    "\n",
    "print('counting...')\n",
    "for word in words:\n",
    "    counts[word]=counts.get(word,0)+1\n",
    "print('counts',counts)\n",
    "concat_num=''\n",
    "add = 0\n",
    "for word in words: \n",
    "    try: \n",
    "        num = int(word)\n",
    "        add = add + int(word)\n",
    "        concat_num+=word\n",
    "    except: \n",
    "        pass\n",
    "print('concatination of the numbers: ',concat_num)\n",
    "print('additions of the numbers' ,add)\n",
    "\n",
    "special_chars = ['!', '@', '#', '$', '%', '^', '&', '*', '(', ')']\n",
    "special_found = False\n",
    "\n",
    "for word in words:\n",
    "    if word in special_chars:\n",
    "        special_found = True\n",
    "        break\n",
    "\n",
    "if special_found:\n",
    "    print(\" The special characters are present.\")\n",
    "else:\n",
    "    print(\"Special characters are not present.\")"
   ]
  },
  {
   "cell_type": "code",
   "execution_count": null,
   "id": "072a04a4-7efa-4c54-aa78-ff880d6a8295",
   "metadata": {},
   "outputs": [],
   "source": []
  }
 ],
 "metadata": {
  "kernelspec": {
   "display_name": "Python 3 (ipykernel)",
   "language": "python",
   "name": "python3"
  },
  "language_info": {
   "codemirror_mode": {
    "name": "ipython",
    "version": 3
   },
   "file_extension": ".py",
   "mimetype": "text/x-python",
   "name": "python",
   "nbconvert_exporter": "python",
   "pygments_lexer": "ipython3",
   "version": "3.13.5"
  }
 },
 "nbformat": 4,
 "nbformat_minor": 5
}
